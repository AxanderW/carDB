{
 "cells": [
  {
   "cell_type": "markdown",
   "metadata": {},
   "source": [
    "### The goal of this scraper to scape the sales table table from carsalesdatabase and load tables to mysql workbench\n",
    " * base_url: http://carsalesbase.com/us-car-sales-data/"
   ]
  },
  {
   "cell_type": "code",
   "execution_count": 1,
   "metadata": {},
   "outputs": [],
   "source": [
    "# Import dependencies\n",
    "from splinter import Browser\n",
    "from splinter.exceptions import ElementDoesNotExist\n",
    "from bs4 import BeautifulSoup as bs\n",
    "import requests\n",
    "import pandas as pd\n",
    "import time\n",
    "from selenium import webdriver\n",
    "\n",
    "from selenium.webdriver.support.ui import Select\n",
    "driver = webdriver.Chrome()\n",
    "from selenium.webdriver.common.by import By\n",
    "from sqlalchemy import create_engine\n",
    "from sqlalchemy.ext.declarative import declarative_base\n",
    "from sqlalchemy import Column, Integer, String, Float\n",
    "from sqlalchemy.orm import Session\n",
    "from mysql_conn import password\n",
    "import datetime\n",
    "import os"
   ]
  },
  {
   "cell_type": "markdown",
   "metadata": {},
   "source": [
    "### Create an empty dataframe with car to store car make, model, and table html link, and picture link"
   ]
  },
  {
   "cell_type": "code",
   "execution_count": 2,
   "metadata": {},
   "outputs": [
    {
     "data": {
      "text/html": [
       "<div>\n",
       "<style scoped>\n",
       "    .dataframe tbody tr th:only-of-type {\n",
       "        vertical-align: middle;\n",
       "    }\n",
       "\n",
       "    .dataframe tbody tr th {\n",
       "        vertical-align: top;\n",
       "    }\n",
       "\n",
       "    .dataframe thead th {\n",
       "        text-align: right;\n",
       "    }\n",
       "</style>\n",
       "<table border=\"1\" class=\"dataframe\">\n",
       "  <thead>\n",
       "    <tr style=\"text-align: right;\">\n",
       "      <th></th>\n",
       "      <th>Make</th>\n",
       "      <th>Model</th>\n",
       "      <th>table_url</th>\n",
       "      <th>img_url</th>\n",
       "    </tr>\n",
       "  </thead>\n",
       "  <tbody>\n",
       "  </tbody>\n",
       "</table>\n",
       "</div>"
      ],
      "text/plain": [
       "Empty DataFrame\n",
       "Columns: [Make, Model, table_url, img_url]\n",
       "Index: []"
      ]
     },
     "execution_count": 2,
     "metadata": {},
     "output_type": "execute_result"
    }
   ],
   "source": [
    "car_links = pd.DataFrame()\n",
    "\n",
    "car_links['Make'] = \"\"\n",
    "car_links['Model'] = \"\"\n",
    "car_links['table_url'] = \"\"\n",
    "car_links['img_url'] = \"\"\n",
    "\n",
    "car_links"
   ]
  },
  {
   "cell_type": "markdown",
   "metadata": {},
   "source": [
    "### Visit page and find all makes, models available in US sales section store in car links"
   ]
  },
  {
   "cell_type": "code",
   "execution_count": 3,
   "metadata": {},
   "outputs": [],
   "source": [
    "# activate splinter\n",
    "\n",
    "executable_path = {'executable_path': 'chromedriver.exe'}\n",
    "browser = Browser('chrome', **executable_path, headless=False)"
   ]
  },
  {
   "cell_type": "code",
   "execution_count": 6,
   "metadata": {},
   "outputs": [],
   "source": [
    "base_url = 'http://carsalesbase.com/us-car-sales-data/'\n",
    "browser.visit(base_url)\n",
    "\n",
    "time.sleep(5)\n",
    "\n",
    "# Search for car\n",
    "car_brands_search = browser.find_by_id('brand-option')\n",
    "car_brands_search.click()\n",
    "\n",
    "\n",
    "\n",
    "# Scrape page into Soup\n",
    "html = browser.html\n",
    "soup = bs(html, \"html.parser\")\n",
    "makes = soup.select('[name=brand-option] option[value]')\n",
    "make_values = [make.get('value') for make in makes]\n",
    "brands_textValues = [model.text for model in models]\n"
   ]
  },
  {
   "cell_type": "markdown",
   "metadata": {},
   "source": [
    "### Get US Car Makes"
   ]
  },
  {
   "cell_type": "code",
   "execution_count": 8,
   "metadata": {},
   "outputs": [],
   "source": [
    "car_makes = brands_textValues[2:-9]\n",
    "car_makes.sort()\n",
    "car_makes_unique = []\n",
    "for i in car_makes:\n",
    "    if i not in car_makes_unique:\n",
    "        car_makes_unique.append(i)"
   ]
  },
  {
   "cell_type": "code",
   "execution_count": 9,
   "metadata": {},
   "outputs": [
    {
     "data": {
      "text/html": [
       "<div>\n",
       "<style scoped>\n",
       "    .dataframe tbody tr th:only-of-type {\n",
       "        vertical-align: middle;\n",
       "    }\n",
       "\n",
       "    .dataframe tbody tr th {\n",
       "        vertical-align: top;\n",
       "    }\n",
       "\n",
       "    .dataframe thead th {\n",
       "        text-align: right;\n",
       "    }\n",
       "</style>\n",
       "<table border=\"1\" class=\"dataframe\">\n",
       "  <thead>\n",
       "    <tr style=\"text-align: right;\">\n",
       "      <th></th>\n",
       "      <th>Make</th>\n",
       "      <th>Model</th>\n",
       "      <th>table_url</th>\n",
       "      <th>img_url</th>\n",
       "    </tr>\n",
       "  </thead>\n",
       "  <tbody>\n",
       "    <tr>\n",
       "      <th>0</th>\n",
       "      <td>Acura</td>\n",
       "      <td>NaN</td>\n",
       "      <td>NaN</td>\n",
       "      <td>NaN</td>\n",
       "    </tr>\n",
       "    <tr>\n",
       "      <th>1</th>\n",
       "      <td>Alfa Romeo</td>\n",
       "      <td>NaN</td>\n",
       "      <td>NaN</td>\n",
       "      <td>NaN</td>\n",
       "    </tr>\n",
       "    <tr>\n",
       "      <th>2</th>\n",
       "      <td>Alpina</td>\n",
       "      <td>NaN</td>\n",
       "      <td>NaN</td>\n",
       "      <td>NaN</td>\n",
       "    </tr>\n",
       "    <tr>\n",
       "      <th>3</th>\n",
       "      <td>Alpine</td>\n",
       "      <td>NaN</td>\n",
       "      <td>NaN</td>\n",
       "      <td>NaN</td>\n",
       "    </tr>\n",
       "    <tr>\n",
       "      <th>4</th>\n",
       "      <td>Arcfox</td>\n",
       "      <td>NaN</td>\n",
       "      <td>NaN</td>\n",
       "      <td>NaN</td>\n",
       "    </tr>\n",
       "  </tbody>\n",
       "</table>\n",
       "</div>"
      ],
      "text/plain": [
       "         Make Model table_url img_url\n",
       "0       Acura   NaN       NaN     NaN\n",
       "1  Alfa Romeo   NaN       NaN     NaN\n",
       "2      Alpina   NaN       NaN     NaN\n",
       "3      Alpine   NaN       NaN     NaN\n",
       "4      Arcfox   NaN       NaN     NaN"
      ]
     },
     "execution_count": 9,
     "metadata": {},
     "output_type": "execute_result"
    }
   ],
   "source": [
    "car_links['Make'] = car_makes_unique\n",
    "car_links.head()"
   ]
  },
  {
   "cell_type": "code",
   "execution_count": 11,
   "metadata": {},
   "outputs": [
    {
     "data": {
      "text/html": [
       "<div>\n",
       "<style scoped>\n",
       "    .dataframe tbody tr th:only-of-type {\n",
       "        vertical-align: middle;\n",
       "    }\n",
       "\n",
       "    .dataframe tbody tr th {\n",
       "        vertical-align: top;\n",
       "    }\n",
       "\n",
       "    .dataframe thead th {\n",
       "        text-align: right;\n",
       "    }\n",
       "</style>\n",
       "<table border=\"1\" class=\"dataframe\">\n",
       "  <thead>\n",
       "    <tr style=\"text-align: right;\">\n",
       "      <th></th>\n",
       "      <th>Makes</th>\n",
       "    </tr>\n",
       "  </thead>\n",
       "  <tbody>\n",
       "    <tr>\n",
       "      <th>0</th>\n",
       "      <td>Acura</td>\n",
       "    </tr>\n",
       "    <tr>\n",
       "      <th>1</th>\n",
       "      <td>Alfa Romeo</td>\n",
       "    </tr>\n",
       "    <tr>\n",
       "      <th>2</th>\n",
       "      <td>Alpina</td>\n",
       "    </tr>\n",
       "    <tr>\n",
       "      <th>3</th>\n",
       "      <td>Alpine</td>\n",
       "    </tr>\n",
       "    <tr>\n",
       "      <th>4</th>\n",
       "      <td>Arcfox</td>\n",
       "    </tr>\n",
       "    <tr>\n",
       "      <th>5</th>\n",
       "      <td>Aston Martin</td>\n",
       "    </tr>\n",
       "    <tr>\n",
       "      <th>6</th>\n",
       "      <td>Audi</td>\n",
       "    </tr>\n",
       "    <tr>\n",
       "      <th>7</th>\n",
       "      <td>BAIC</td>\n",
       "    </tr>\n",
       "    <tr>\n",
       "      <th>8</th>\n",
       "      <td>BMW</td>\n",
       "    </tr>\n",
       "    <tr>\n",
       "      <th>9</th>\n",
       "      <td>BYD</td>\n",
       "    </tr>\n",
       "  </tbody>\n",
       "</table>\n",
       "</div>"
      ],
      "text/plain": [
       "          Makes\n",
       "0         Acura\n",
       "1    Alfa Romeo\n",
       "2        Alpina\n",
       "3        Alpine\n",
       "4        Arcfox\n",
       "5  Aston Martin\n",
       "6          Audi\n",
       "7          BAIC\n",
       "8           BMW\n",
       "9           BYD"
      ]
     },
     "execution_count": 11,
     "metadata": {},
     "output_type": "execute_result"
    }
   ],
   "source": [
    "car_sales = pd.DataFrame()\n",
    "car_sales['Makes'] = car_makes_unique\n",
    "car_sales.head(10)"
   ]
  },
  {
   "cell_type": "markdown",
   "metadata": {},
   "source": [
    "### Next get Models\n",
    "\n",
    "* Add code to click thru each make\n",
    "    * Then select model from id = model-option\n",
    "* Add model to to tables"
   ]
  },
  {
   "cell_type": "code",
   "execution_count": null,
   "metadata": {},
   "outputs": [],
   "source": []
  },
  {
   "cell_type": "code",
   "execution_count": null,
   "metadata": {},
   "outputs": [],
   "source": []
  },
  {
   "cell_type": "code",
   "execution_count": null,
   "metadata": {},
   "outputs": [],
   "source": []
  },
  {
   "cell_type": "code",
   "execution_count": null,
   "metadata": {},
   "outputs": [],
   "source": []
  },
  {
   "cell_type": "code",
   "execution_count": null,
   "metadata": {},
   "outputs": [],
   "source": []
  },
  {
   "cell_type": "markdown",
   "metadata": {},
   "source": [
    "### If make and model is predefined, use csv"
   ]
  },
  {
   "cell_type": "code",
   "execution_count": 7,
   "metadata": {},
   "outputs": [
    {
     "data": {
      "text/html": [
       "<div>\n",
       "<style scoped>\n",
       "    .dataframe tbody tr th:only-of-type {\n",
       "        vertical-align: middle;\n",
       "    }\n",
       "\n",
       "    .dataframe tbody tr th {\n",
       "        vertical-align: top;\n",
       "    }\n",
       "\n",
       "    .dataframe thead th {\n",
       "        text-align: right;\n",
       "    }\n",
       "</style>\n",
       "<table border=\"1\" class=\"dataframe\">\n",
       "  <thead>\n",
       "    <tr style=\"text-align: right;\">\n",
       "      <th></th>\n",
       "      <th>make</th>\n",
       "      <th>model</th>\n",
       "      <th>Link</th>\n",
       "    </tr>\n",
       "  </thead>\n",
       "  <tbody>\n",
       "    <tr>\n",
       "      <th>0</th>\n",
       "      <td>Chevrolet</td>\n",
       "      <td>Colorado</td>\n",
       "      <td>http://carsalesbase.com/us-car-sales-data/chev...</td>\n",
       "    </tr>\n",
       "    <tr>\n",
       "      <th>1</th>\n",
       "      <td>Jeep</td>\n",
       "      <td>Wrangler</td>\n",
       "      <td>http://carsalesbase.com/us-car-sales-data/jeep...</td>\n",
       "    </tr>\n",
       "    <tr>\n",
       "      <th>2</th>\n",
       "      <td>Chevrolet</td>\n",
       "      <td>Silverado</td>\n",
       "      <td>http://carsalesbase.com/us-car-sales-data/chev...</td>\n",
       "    </tr>\n",
       "    <tr>\n",
       "      <th>3</th>\n",
       "      <td>Subaru</td>\n",
       "      <td>WRX</td>\n",
       "      <td>http://carsalesbase.com/us-car-sales-data/suba...</td>\n",
       "    </tr>\n",
       "    <tr>\n",
       "      <th>4</th>\n",
       "      <td>GMC</td>\n",
       "      <td>Canyon</td>\n",
       "      <td>http://carsalesbase.com/us-car-sales-data/gmc/...</td>\n",
       "    </tr>\n",
       "  </tbody>\n",
       "</table>\n",
       "</div>"
      ],
      "text/plain": [
       "        make      model                                               Link\n",
       "0  Chevrolet   Colorado  http://carsalesbase.com/us-car-sales-data/chev...\n",
       "1       Jeep   Wrangler  http://carsalesbase.com/us-car-sales-data/jeep...\n",
       "2  Chevrolet  Silverado  http://carsalesbase.com/us-car-sales-data/chev...\n",
       "3     Subaru        WRX  http://carsalesbase.com/us-car-sales-data/suba...\n",
       "4        GMC     Canyon  http://carsalesbase.com/us-car-sales-data/gmc/..."
      ]
     },
     "execution_count": 7,
     "metadata": {},
     "output_type": "execute_result"
    }
   ],
   "source": [
    "table_links = pd.read_csv('database/table_links.csv')\n",
    "\n",
    "table_links.head()"
   ]
  },
  {
   "cell_type": "markdown",
   "metadata": {},
   "source": [
    "### Loop thru tables in each Link and capture tables\n",
    "* Need to store each table as browser loops thru"
   ]
  },
  {
   "cell_type": "code",
   "execution_count": 10,
   "metadata": {},
   "outputs": [
    {
     "name": "stdout",
     "output_type": "stream",
     "text": [
      "Processing data for: http://carsalesbase.com/us-car-sales-data/chevrolet/chevrolet-colorado\n",
      "Processing data for: http://carsalesbase.com/us-car-sales-data/jeep/jeep-wrangler\n",
      "Processing data for: http://carsalesbase.com/us-car-sales-data/chevrolet/chevrolet-silverado\n",
      "Processing data for: http://carsalesbase.com/us-car-sales-data/subaru/wrx-sti/\n",
      "Processing data for: http://carsalesbase.com/us-car-sales-data/gmc/gmc-canyon\n",
      "Processing data for: http://carsalesbase.com/us-car-sales-data/toyota/toyota-4runner\n",
      "Processing data for: http://carsalesbase.com/us-car-sales-data/gmc/gmc-sierra\n",
      "Processing data for: http://carsalesbase.com/us-car-sales-data/toyota/toyota-tacoma\n",
      "Processing data for: http://carsalesbase.com/us-car-sales-data/honda/honda-ridgeline\n",
      "Processing data for: http://carsalesbase.com/us-car-sales-data/toyota/toyota-tundra\n",
      "Processing data for: http://carsalesbase.com/us-car-sales-data/bmw/bmw-7-series\n",
      "Processing data for: http://carsalesbase.com/us-car-sales-data/fiat/fiat-500/\n",
      "Processing data for: http://carsalesbase.com/us-car-sales-data/jaguar/jaguar-xj\n",
      "Processing data for: http://carsalesbase.com/us-car-sales-data/jaguar/jaguar-xk\n",
      "Processing data for: http://carsalesbase.com/us-car-sales-data/lincoln/lincoln-mks\n",
      "Processing data for: http://carsalesbase.com/us-car-sales-data/mercedes-benz/mercedes-benz-cl/\n",
      "Processing data for: http://carsalesbase.com/us-car-sales-data/nissan/nissan-leaf\n",
      "Processing data for: http://carsalesbase.com/us-car-sales-data/smart/smart-fortwo-electric-drive/\n"
     ]
    }
   ],
   "source": [
    "executable_path = {'executable_path': 'chromedriver.exe'}\n",
    "browser = Browser('chrome', **executable_path, headless=False)\n",
    "tables = []\n",
    "\n",
    "for i in table_links['Link']:\n",
    "    \n",
    "    try:\n",
    "        link = i\n",
    "        print(f'Processing data for: {link}')\n",
    "        browser.visit(link)\n",
    "        time.sleep(5)\n",
    "        tables = pd.read_html(link)\n",
    "        \n",
    "        \n",
    "    \n",
    "    except (KeyError):\n",
    "\n",
    "        print(\"Data unavilable...skipping.\")"
   ]
  },
  {
   "cell_type": "markdown",
   "metadata": {},
   "source": [
    "### Add code to capture each table. \n",
    "* Previous table is showed each time code iterates to next car\n",
    "* Need to handle tables with different date values\n",
    "    * e.g. some tables only have 2018 data, some have 2019 data"
   ]
  },
  {
   "cell_type": "code",
   "execution_count": null,
   "metadata": {},
   "outputs": [],
   "source": []
  },
  {
   "cell_type": "markdown",
   "metadata": {},
   "source": [
    "### Clean data then read to database"
   ]
  },
  {
   "cell_type": "code",
   "execution_count": null,
   "metadata": {},
   "outputs": [],
   "source": [
    "# take 1 of 4 in list\n",
    "yearly_table.columns = tables[0].iloc[0]\n",
    "\n",
    "# fill null values\n",
    "yearly_table_2 = yearly_table.fillna('null')\n",
    "\n",
    "# Create Month Column\n",
    "yearly_table_2.rename(columns={ yearly_table_2.columns[0]: \"Month\"}, inplace=True)\n",
    "\n",
    "# Capture make_name by stripping off year\n",
    "make_name = yearly_table_2.columns[1][:-4].strip()\n",
    "\n",
    "# Remove duplicate row\n",
    "yearly_final = yearly_table_2.iloc[2:]\n",
    "\n",
    "# Create 'Make Column'\n",
    "yearly_final.insert(loc = 0, column = 'Make', value = make_name, allow_duplicates=False)\n",
    "\n",
    "# Create empty header list varible\n",
    "header = []\n",
    "\n",
    "# Create new column headers using years (2015,2016,2017,etc.)\n",
    "new_columns = yearly_final.columns[2:].values\n",
    "for column in new_columns:\n",
    "    header.append(column[-4:])\n",
    "    \n",
    "# Create new dataframe with year columns and values\n",
    "yearly = yearly_final.rename(columns={ yearly_final.columns[2]: header[0],\n",
    "                                      yearly_final.columns[3]: header[1],\n",
    "                                      yearly_final.columns[4]:header[2],\n",
    "                                      yearly_final.columns[5]:header[3]\n",
    "                                      \n",
    "                                  })\n",
    "# make a copy dataframe copy\n",
    "year_sale = yearly\n",
    "# replace decimal point values with comma to denote thousands (U.S. units of cars sold)\n",
    "year_sale['2015'] = [x.replace('.', ',') for x in year_sale['2015']]\n",
    "year_sale['2016'] = [x.replace('.', ',') for x in year_sale['2016']]\n",
    "year_sale['2017'] = [x.replace('.', ',') for x in year_sale['2017']]\n",
    "year_sale['2018'] = [x.replace('.', ',') for x in year_sale['2018']]"
   ]
  },
  {
   "cell_type": "code",
   "execution_count": 12,
   "metadata": {},
   "outputs": [],
   "source": [
    "# CREATE DATABASE connection\n",
    "#password = os.environ['MY_SQL_PW']\n",
    "rds_connection_string = f\"root:{password}@127.0.0.1/cardb_test\"\n",
    "engine = create_engine(f'mysql://{rds_connection_string}')"
   ]
  },
  {
   "cell_type": "code",
   "execution_count": 13,
   "metadata": {},
   "outputs": [],
   "source": [
    "Base = declarative_base()\n",
    "session = Session(bind=engine)\n",
    "\n",
    "# Object relational mapping for our table\n",
    "class CarSales(Base):\n",
    "    __tablename__ = 'car_sales'\n",
    "    id = Column(Integer, primary_key=True)\n",
    "    model = Column(String(255))\n",
    "    month = Column(String(50))\n",
    "    Year_2015 = Column(Integer)\n",
    "    Year_2016 = Column(Integer)\n",
    "    Year_2017 = Column(Integer)\n",
    "    Year_2018 = Column(Integer)\n",
    "    Year_2019 = Column(Integer)"
   ]
  },
  {
   "cell_type": "code",
   "execution_count": null,
   "metadata": {},
   "outputs": [],
   "source": [
    "c = 0\n",
    "maxRows = 10000\n",
    "start_time = datetime.datetime.now()\n",
    "for index, row in yearly.iterrows():\n",
    "    record = CarSales()\n",
    "    record.model = row['Model']\n",
    "    record.month = row['Month']\n",
    "    record.Year_2015 = row['2015']\n",
    "    record.Year_2016 = row['2016']\n",
    "    record.Year_2017 = row['2017']\n",
    "    record.Year_2018 = row['2018']\n",
    "    record.Year_2019 = row['2019']\n",
    "    session.add(record)\n",
    "    session.commit()\n",
    "    c = c + 1\n",
    "    if c >= maxRows: break\n",
    "\n",
    "end_time = datetime.datetime.now()\n",
    "print(end_time - start_time)"
   ]
  }
 ],
 "metadata": {
  "kernelspec": {
   "display_name": "Python 3",
   "language": "python",
   "name": "python3"
  },
  "language_info": {
   "codemirror_mode": {
    "name": "ipython",
    "version": 3
   },
   "file_extension": ".py",
   "mimetype": "text/x-python",
   "name": "python",
   "nbconvert_exporter": "python",
   "pygments_lexer": "ipython3",
   "version": "3.6.5"
  }
 },
 "nbformat": 4,
 "nbformat_minor": 2
}
